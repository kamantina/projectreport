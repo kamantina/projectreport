{
  "nbformat": 4,
  "nbformat_minor": 0,
  "metadata": {
    "colab": {
      "provenance": [],
      "mount_file_id": "1o1HmRXKE-RzlH__WDkZM1BtA-JK5roVw",
      "authorship_tag": "ABX9TyN39Gecv4UytSzKawxjj27G",
      "include_colab_link": true
    },
    "kernelspec": {
      "name": "python3",
      "display_name": "Python 3"
    },
    "language_info": {
      "name": "python"
    }
  },
  "cells": [
    {
      "cell_type": "markdown",
      "metadata": {
        "id": "view-in-github",
        "colab_type": "text"
      },
      "source": [
        "<a href=\"https://colab.research.google.com/github/kamantina/projectreport/blob/main/feature_analysis/comments_language_checking.ipynb\" target=\"_parent\"><img src=\"https://colab.research.google.com/assets/colab-badge.svg\" alt=\"Open In Colab\"/></a>"
      ]
    },
    {
      "cell_type": "code",
      "execution_count": null,
      "metadata": {
        "id": "SBspcMXUnN7l",
        "colab": {
          "base_uri": "https://localhost:8080/"
        },
        "outputId": "a21406e1-8f31-47cb-8023-2af5d5b19dc8"
      },
      "outputs": [
        {
          "output_type": "stream",
          "name": "stdout",
          "text": [
            "Data loaded successfully.\n"
          ]
        }
      ],
      "source": [
        "import pandas as pd\n",
        "import numpy as np\n",
        "\n",
        "# Load the CSV file (change the path to your file path)\n",
        "df = pd.read_csv('/content/drive/MyDrive/CISC7298/comments_202050308_utf8.csv', encoding='utf-8')\n",
        "\n",
        "# Ensure necessary columns exist\n",
        "if 'videoId' not in df.columns or 'textOriginal' not in df.columns:\n",
        "    raise ValueError(\"The required columns 'videoId' and 'textOriginal' are missing in your CSV.\")\n",
        "\n",
        "# Handle missing values\n",
        "df['textOriginal'] = df['textOriginal'].fillna('').astype(str)\n",
        "\n",
        "print(\"Data loaded successfully.\")"
      ]
    },
    {
      "cell_type": "markdown",
      "source": [
        "Keep only top comments"
      ],
      "metadata": {
        "id": "7JvpWVvNeFs6"
      }
    },
    {
      "cell_type": "code",
      "source": [
        "df = df[df['isTopComment'] == 1]"
      ],
      "metadata": {
        "id": "QF_mKCARniWu"
      },
      "execution_count": null,
      "outputs": []
    },
    {
      "cell_type": "markdown",
      "source": [
        "Remove URLs, hashtags and special characters but keep letters, numbers, spaces and emojis"
      ],
      "metadata": {
        "id": "reRb6Dj8eRgR"
      }
    },
    {
      "cell_type": "code",
      "source": [
        "!pip install emoji"
      ],
      "metadata": {
        "colab": {
          "base_uri": "https://localhost:8080/"
        },
        "id": "SaOefJ0neujR",
        "outputId": "1c049de9-decb-4ef5-c0ed-68a1f6dcc5cc"
      },
      "execution_count": null,
      "outputs": [
        {
          "output_type": "stream",
          "name": "stdout",
          "text": [
            "Collecting emoji\n",
            "  Downloading emoji-2.14.1-py3-none-any.whl.metadata (5.7 kB)\n",
            "Downloading emoji-2.14.1-py3-none-any.whl (590 kB)\n",
            "\u001b[?25l   \u001b[90m━━━━━━━━━━━━━━━━━━━━━━━━━━━━━━━━━━━━━━━━\u001b[0m \u001b[32m0.0/590.6 kB\u001b[0m \u001b[31m?\u001b[0m eta \u001b[36m-:--:--\u001b[0m\r\u001b[2K   \u001b[91m━━━━━━\u001b[0m\u001b[91m╸\u001b[0m\u001b[90m━━━━━━━━━━━━━━━━━━━━━━━━━━━━━━━━━\u001b[0m \u001b[32m102.4/590.6 kB\u001b[0m \u001b[31m2.8 MB/s\u001b[0m eta \u001b[36m0:00:01\u001b[0m\r\u001b[2K   \u001b[91m━━━━━━━━━━━━━━━━━━━━━━━━━━━━━━━━━━━━━━━\u001b[0m\u001b[91m╸\u001b[0m \u001b[32m583.7/590.6 kB\u001b[0m \u001b[31m9.3 MB/s\u001b[0m eta \u001b[36m0:00:01\u001b[0m\r\u001b[2K   \u001b[90m━━━━━━━━━━━━━━━━━━━━━━━━━━━━━━━━━━━━━━━━\u001b[0m \u001b[32m590.6/590.6 kB\u001b[0m \u001b[31m7.6 MB/s\u001b[0m eta \u001b[36m0:00:00\u001b[0m\n",
            "\u001b[?25hInstalling collected packages: emoji\n",
            "Successfully installed emoji-2.14.1\n"
          ]
        }
      ]
    },
    {
      "cell_type": "code",
      "source": [
        "import re\n",
        "import emoji\n",
        "\n",
        "def clean_comment(text):\n",
        "    # Remove URLs\n",
        "    text = re.sub(r'http\\S+|www\\S+', '', text)\n",
        "    # Remove hashtags and symbols\n",
        "    text = re.sub(r'[#@]', '', text)\n",
        "    # Remove special characters except letters, numbers, spaces, and emojis\n",
        "    text = re.sub(r'[^\\w\\s@#$%^&*()_+={}\\[\\]:;,.!?~`\\-\\U0001F600-\\U0001F64F\\U0001F300-\\U0001F5FF\\U0001F680-\\U0001F6FF\\U0001F700-\\U0001F77F\\U0001F780-\\U0001F7FF\\U0001F800-\\U0001F8FF\\U0001F900-\\U0001F9FF\\U0001FA00-\\U0001FA6F\\U0001FA70-\\U0001FAFF\\U00002702-\\U000027B0\\U000024C2-\\U0001F251]', '', text)\n",
        "    return text.strip()"
      ],
      "metadata": {
        "id": "JWOHupE3keNt"
      },
      "execution_count": null,
      "outputs": []
    },
    {
      "cell_type": "markdown",
      "source": [
        "Use langid to detect language"
      ],
      "metadata": {
        "id": "5PRvwz0IfTHv"
      }
    },
    {
      "cell_type": "code",
      "source": [
        "!pip install langid"
      ],
      "metadata": {
        "colab": {
          "base_uri": "https://localhost:8080/"
        },
        "id": "WRpLgOvNSb8N",
        "outputId": "e1015aba-5a64-4438-ccf6-618e6adf1827"
      },
      "execution_count": null,
      "outputs": [
        {
          "output_type": "stream",
          "name": "stdout",
          "text": [
            "Collecting langid\n",
            "  Downloading langid-1.1.6.tar.gz (1.9 MB)\n",
            "\u001b[2K     \u001b[90m━━━━━━━━━━━━━━━━━━━━━━━━━━━━━━━━━━━━━━━━\u001b[0m \u001b[32m1.9/1.9 MB\u001b[0m \u001b[31m17.4 MB/s\u001b[0m eta \u001b[36m0:00:00\u001b[0m\n",
            "\u001b[?25h  Preparing metadata (setup.py) ... \u001b[?25l\u001b[?25hdone\n",
            "Requirement already satisfied: numpy in /usr/local/lib/python3.11/dist-packages (from langid) (2.0.2)\n",
            "Building wheels for collected packages: langid\n",
            "  Building wheel for langid (setup.py) ... \u001b[?25l\u001b[?25hdone\n",
            "  Created wheel for langid: filename=langid-1.1.6-py3-none-any.whl size=1941171 sha256=9e97ae69b9332c741f3fac05d28e755d0ff047fa1463bf21e54bd7bd61e5e582\n",
            "  Stored in directory: /root/.cache/pip/wheels/32/6a/b6/b7eb43a6ad55b139c15c5daa29f3707659cfa6944d3c696f5b\n",
            "Successfully built langid\n",
            "Installing collected packages: langid\n",
            "Successfully installed langid-1.1.6\n"
          ]
        }
      ]
    },
    {
      "cell_type": "code",
      "source": [
        "import langid\n",
        "\n",
        "def is_english(text, threshold=0.1):\n",
        "    \"\"\"\n",
        "    Uses langid for language detection.\n",
        "    Returns True if the detected language is English.\n",
        "    \"\"\"\n",
        "    try:\n",
        "        # First, convert emojis to descriptive words.\n",
        "        # preprocessed_text = preprocess_text(text)\n",
        "        lang, confidence = langid.classify(text)\n",
        "        return lang == 'en' and confidence >= threshold\n",
        "    except Exception:\n",
        "        return False\n"
      ],
      "metadata": {
        "id": "xppRZjPTSB-t"
      },
      "execution_count": null,
      "outputs": []
    },
    {
      "cell_type": "markdown",
      "source": [
        "Manually check first 200 rows"
      ],
      "metadata": {
        "id": "FRxI--PWfWVd"
      }
    },
    {
      "cell_type": "code",
      "source": [
        "# Sample the first 200 rows\n",
        "df_sample = df.head(200).copy()\n",
        "df_sample[\"cleaned_text\"] = df_sample[\"textOriginal\"].apply(preprocess_text)\n",
        "df_sample[\"is_english\"] = df_sample[\"cleaned_text\"].apply(is_english)"
      ],
      "metadata": {
        "id": "RZQrCdMrTfow"
      },
      "execution_count": null,
      "outputs": []
    },
    {
      "cell_type": "code",
      "source": [
        "df_sample"
      ],
      "metadata": {
        "id": "EZdd7wBnTrv-"
      },
      "execution_count": null,
      "outputs": []
    },
    {
      "cell_type": "markdown",
      "source": [
        "Go ahead to apply English checking to all comments once settings are ready"
      ],
      "metadata": {
        "id": "4-SEoOuFfrxG"
      }
    },
    {
      "cell_type": "code",
      "source": [
        "# Load your comments into a DataFrame (df_comments)\n",
        "df[\"cleaned_text\"] = df[\"textOriginal\"].apply(preprocess_text)\n",
        "df[\"is_english\"] = df[\"cleaned_text\"].apply(is_english)"
      ],
      "metadata": {
        "id": "xDgwhFmySLLq"
      },
      "execution_count": null,
      "outputs": []
    },
    {
      "cell_type": "markdown",
      "source": [
        "Check the language again on both the original text and cleaned text of comments labelled as \"False\" for English"
      ],
      "metadata": {
        "id": "7NKpxzsKntJF"
      }
    },
    {
      "cell_type": "code",
      "source": [
        "# Filter rows where is_english is False\n",
        "false_rows = df[df['is_english'] == False].copy()\n",
        "\n",
        "# Apply langid to detect the language of the \"textOriginal\" column\n",
        "false_rows['detected_language'] = false_rows['textOriginal'].apply(lambda text: langid.classify(text)[0])\n",
        "false_rows['cleaned_detected_language'] = false_rows['cleaned_text'].apply(lambda text: langid.classify(text)[0])\n"
      ],
      "metadata": {
        "id": "CObpE3rRBSW0"
      },
      "execution_count": null,
      "outputs": []
    },
    {
      "cell_type": "code",
      "source": [
        "false_rows['detected_language'].value_counts()"
      ],
      "metadata": {
        "colab": {
          "base_uri": "https://localhost:8080/",
          "height": 490
        },
        "id": "1GzfpPUJMK-h",
        "outputId": "2c10dc4e-af6c-4409-9551-cc74545e2c2a"
      },
      "execution_count": null,
      "outputs": [
        {
          "output_type": "execute_result",
          "data": {
            "text/plain": [
              "detected_language\n",
              "es    6574\n",
              "ru    6354\n",
              "en    6057\n",
              "de    5007\n",
              "ko    4160\n",
              "      ... \n",
              "or      19\n",
              "zu      18\n",
              "te      15\n",
              "ta       8\n",
              "fo       7\n",
              "Name: count, Length: 97, dtype: int64"
            ],
            "text/html": [
              "<div>\n",
              "<style scoped>\n",
              "    .dataframe tbody tr th:only-of-type {\n",
              "        vertical-align: middle;\n",
              "    }\n",
              "\n",
              "    .dataframe tbody tr th {\n",
              "        vertical-align: top;\n",
              "    }\n",
              "\n",
              "    .dataframe thead th {\n",
              "        text-align: right;\n",
              "    }\n",
              "</style>\n",
              "<table border=\"1\" class=\"dataframe\">\n",
              "  <thead>\n",
              "    <tr style=\"text-align: right;\">\n",
              "      <th></th>\n",
              "      <th>count</th>\n",
              "    </tr>\n",
              "    <tr>\n",
              "      <th>detected_language</th>\n",
              "      <th></th>\n",
              "    </tr>\n",
              "  </thead>\n",
              "  <tbody>\n",
              "    <tr>\n",
              "      <th>es</th>\n",
              "      <td>6574</td>\n",
              "    </tr>\n",
              "    <tr>\n",
              "      <th>ru</th>\n",
              "      <td>6354</td>\n",
              "    </tr>\n",
              "    <tr>\n",
              "      <th>en</th>\n",
              "      <td>6057</td>\n",
              "    </tr>\n",
              "    <tr>\n",
              "      <th>de</th>\n",
              "      <td>5007</td>\n",
              "    </tr>\n",
              "    <tr>\n",
              "      <th>ko</th>\n",
              "      <td>4160</td>\n",
              "    </tr>\n",
              "    <tr>\n",
              "      <th>...</th>\n",
              "      <td>...</td>\n",
              "    </tr>\n",
              "    <tr>\n",
              "      <th>or</th>\n",
              "      <td>19</td>\n",
              "    </tr>\n",
              "    <tr>\n",
              "      <th>zu</th>\n",
              "      <td>18</td>\n",
              "    </tr>\n",
              "    <tr>\n",
              "      <th>te</th>\n",
              "      <td>15</td>\n",
              "    </tr>\n",
              "    <tr>\n",
              "      <th>ta</th>\n",
              "      <td>8</td>\n",
              "    </tr>\n",
              "    <tr>\n",
              "      <th>fo</th>\n",
              "      <td>7</td>\n",
              "    </tr>\n",
              "  </tbody>\n",
              "</table>\n",
              "<p>97 rows × 1 columns</p>\n",
              "</div><br><label><b>dtype:</b> int64</label>"
            ]
          },
          "metadata": {},
          "execution_count": 29
        }
      ]
    },
    {
      "cell_type": "code",
      "source": [
        "false_rows['cleaned_detected_language'].value_counts()"
      ],
      "metadata": {
        "colab": {
          "base_uri": "https://localhost:8080/",
          "height": 490
        },
        "id": "WGmRtuPLWk4v",
        "outputId": "ee7d06e8-0c32-4c0d-e07e-68de82426d26"
      },
      "execution_count": null,
      "outputs": [
        {
          "output_type": "execute_result",
          "data": {
            "text/plain": [
              "cleaned_detected_language\n",
              "es    7694\n",
              "ru    6358\n",
              "de    5963\n",
              "it    4445\n",
              "fr    4208\n",
              "      ... \n",
              "pa       2\n",
              "gu       2\n",
              "or       2\n",
              "mr       2\n",
              "ta       1\n",
              "Name: count, Length: 96, dtype: int64"
            ],
            "text/html": [
              "<div>\n",
              "<style scoped>\n",
              "    .dataframe tbody tr th:only-of-type {\n",
              "        vertical-align: middle;\n",
              "    }\n",
              "\n",
              "    .dataframe tbody tr th {\n",
              "        vertical-align: top;\n",
              "    }\n",
              "\n",
              "    .dataframe thead th {\n",
              "        text-align: right;\n",
              "    }\n",
              "</style>\n",
              "<table border=\"1\" class=\"dataframe\">\n",
              "  <thead>\n",
              "    <tr style=\"text-align: right;\">\n",
              "      <th></th>\n",
              "      <th>count</th>\n",
              "    </tr>\n",
              "    <tr>\n",
              "      <th>cleaned_detected_language</th>\n",
              "      <th></th>\n",
              "    </tr>\n",
              "  </thead>\n",
              "  <tbody>\n",
              "    <tr>\n",
              "      <th>es</th>\n",
              "      <td>7694</td>\n",
              "    </tr>\n",
              "    <tr>\n",
              "      <th>ru</th>\n",
              "      <td>6358</td>\n",
              "    </tr>\n",
              "    <tr>\n",
              "      <th>de</th>\n",
              "      <td>5963</td>\n",
              "    </tr>\n",
              "    <tr>\n",
              "      <th>it</th>\n",
              "      <td>4445</td>\n",
              "    </tr>\n",
              "    <tr>\n",
              "      <th>fr</th>\n",
              "      <td>4208</td>\n",
              "    </tr>\n",
              "    <tr>\n",
              "      <th>...</th>\n",
              "      <td>...</td>\n",
              "    </tr>\n",
              "    <tr>\n",
              "      <th>pa</th>\n",
              "      <td>2</td>\n",
              "    </tr>\n",
              "    <tr>\n",
              "      <th>gu</th>\n",
              "      <td>2</td>\n",
              "    </tr>\n",
              "    <tr>\n",
              "      <th>or</th>\n",
              "      <td>2</td>\n",
              "    </tr>\n",
              "    <tr>\n",
              "      <th>mr</th>\n",
              "      <td>2</td>\n",
              "    </tr>\n",
              "    <tr>\n",
              "      <th>ta</th>\n",
              "      <td>1</td>\n",
              "    </tr>\n",
              "  </tbody>\n",
              "</table>\n",
              "<p>96 rows × 1 columns</p>\n",
              "</div><br><label><b>dtype:</b> int64</label>"
            ]
          },
          "metadata": {},
          "execution_count": 30
        }
      ]
    },
    {
      "cell_type": "code",
      "source": [
        "false_english_rows = false_rows[false_rows['detected_language'] == 'en']"
      ],
      "metadata": {
        "id": "KHuxWAH8Vr9O"
      },
      "execution_count": null,
      "outputs": []
    },
    {
      "cell_type": "code",
      "source": [
        "false_english_rows.shape"
      ],
      "metadata": {
        "colab": {
          "base_uri": "https://localhost:8080/"
        },
        "id": "jjztviCNVxyN",
        "outputId": "4e5b7eac-0a36-449d-cce3-91b6f9fa54a7"
      },
      "execution_count": null,
      "outputs": [
        {
          "output_type": "execute_result",
          "data": {
            "text/plain": [
              "(6057, 11)"
            ]
          },
          "metadata": {},
          "execution_count": 35
        }
      ]
    },
    {
      "cell_type": "markdown",
      "source": [
        "Update all comments marked as \"en\" for original and cleaned text as \"True\" for English checking"
      ],
      "metadata": {
        "id": "qOwgMuiEucYG"
      }
    },
    {
      "cell_type": "code",
      "source": [
        "# Update the isEnglish column in false_rows\n",
        "false_rows.loc[\n",
        "    (false_rows['detected_language'] == 'en') | (false_rows['cleaned_detected_language'] == 'en'),\n",
        "    'isEnglish'\n",
        "] = True  # Change to True for rows where either detect_language or cleaned_detect_language is \"en\""
      ],
      "metadata": {
        "id": "PcsceteL4FaU"
      },
      "execution_count": null,
      "outputs": []
    },
    {
      "cell_type": "code",
      "source": [
        "false_rows['isEnglish'].value_counts()"
      ],
      "metadata": {
        "colab": {
          "base_uri": "https://localhost:8080/",
          "height": 147
        },
        "id": "ZhN_SY-VLgbp",
        "outputId": "b0ee1a18-6f8a-4cc1-bb12-9283fd7f06e4"
      },
      "execution_count": null,
      "outputs": [
        {
          "output_type": "execute_result",
          "data": {
            "text/plain": [
              "isEnglish\n",
              "True    6064\n",
              "Name: count, dtype: int64"
            ],
            "text/html": [
              "<div>\n",
              "<style scoped>\n",
              "    .dataframe tbody tr th:only-of-type {\n",
              "        vertical-align: middle;\n",
              "    }\n",
              "\n",
              "    .dataframe tbody tr th {\n",
              "        vertical-align: top;\n",
              "    }\n",
              "\n",
              "    .dataframe thead th {\n",
              "        text-align: right;\n",
              "    }\n",
              "</style>\n",
              "<table border=\"1\" class=\"dataframe\">\n",
              "  <thead>\n",
              "    <tr style=\"text-align: right;\">\n",
              "      <th></th>\n",
              "      <th>count</th>\n",
              "    </tr>\n",
              "    <tr>\n",
              "      <th>isEnglish</th>\n",
              "      <th></th>\n",
              "    </tr>\n",
              "  </thead>\n",
              "  <tbody>\n",
              "    <tr>\n",
              "      <th>True</th>\n",
              "      <td>6064</td>\n",
              "    </tr>\n",
              "  </tbody>\n",
              "</table>\n",
              "</div><br><label><b>dtype:</b> int64</label>"
            ]
          },
          "metadata": {},
          "execution_count": 37
        }
      ]
    },
    {
      "cell_type": "code",
      "source": [
        "false_rows.shape"
      ],
      "metadata": {
        "colab": {
          "base_uri": "https://localhost:8080/"
        },
        "id": "ZIa7hPODRNl8",
        "outputId": "baa0edcf-33c7-4cef-c21f-30f0f8afbba3"
      },
      "execution_count": null,
      "outputs": [
        {
          "output_type": "execute_result",
          "data": {
            "text/plain": [
              "(62970, 12)"
            ]
          },
          "metadata": {},
          "execution_count": 40
        }
      ]
    },
    {
      "cell_type": "code",
      "source": [
        "# Step 1: Create a new column 'isEnglish2' by copying the values from 'isEnglish'\n",
        "df['is_english2'] = df['is_english']\n",
        "\n",
        "# Step 2: Get the list of CommentIds in false_rows where isEnglish=True\n",
        "comment_ids_to_update = false_rows[false_rows['isEnglish'] == True]['commentId']\n",
        "\n",
        "# Step 3: Update isEnglish2 in the original df for matching CommentIds\n",
        "df.loc[df['commentId'].isin(comment_ids_to_update), 'is_english2'] = True\n"
      ],
      "metadata": {
        "id": "5JEY2E19RvHO"
      },
      "execution_count": null,
      "outputs": []
    },
    {
      "cell_type": "code",
      "source": [
        "df['is_english'].value_counts()"
      ],
      "metadata": {
        "colab": {
          "base_uri": "https://localhost:8080/",
          "height": 178
        },
        "id": "hXi8_gy7SURF",
        "outputId": "7c772847-2ea6-4127-f888-bea0afbae5e3"
      },
      "execution_count": null,
      "outputs": [
        {
          "output_type": "execute_result",
          "data": {
            "text/plain": [
              "is_english\n",
              "True     459318\n",
              "False     62970\n",
              "Name: count, dtype: int64"
            ],
            "text/html": [
              "<div>\n",
              "<style scoped>\n",
              "    .dataframe tbody tr th:only-of-type {\n",
              "        vertical-align: middle;\n",
              "    }\n",
              "\n",
              "    .dataframe tbody tr th {\n",
              "        vertical-align: top;\n",
              "    }\n",
              "\n",
              "    .dataframe thead th {\n",
              "        text-align: right;\n",
              "    }\n",
              "</style>\n",
              "<table border=\"1\" class=\"dataframe\">\n",
              "  <thead>\n",
              "    <tr style=\"text-align: right;\">\n",
              "      <th></th>\n",
              "      <th>count</th>\n",
              "    </tr>\n",
              "    <tr>\n",
              "      <th>is_english</th>\n",
              "      <th></th>\n",
              "    </tr>\n",
              "  </thead>\n",
              "  <tbody>\n",
              "    <tr>\n",
              "      <th>True</th>\n",
              "      <td>459318</td>\n",
              "    </tr>\n",
              "    <tr>\n",
              "      <th>False</th>\n",
              "      <td>62970</td>\n",
              "    </tr>\n",
              "  </tbody>\n",
              "</table>\n",
              "</div><br><label><b>dtype:</b> int64</label>"
            ]
          },
          "metadata": {},
          "execution_count": 47
        }
      ]
    },
    {
      "cell_type": "code",
      "source": [
        "df['is_english2'].value_counts()"
      ],
      "metadata": {
        "colab": {
          "base_uri": "https://localhost:8080/",
          "height": 178
        },
        "id": "j5OreNBTSrXJ",
        "outputId": "92bab2e2-0546-49d4-fbeb-31b68e111ad6"
      },
      "execution_count": null,
      "outputs": [
        {
          "output_type": "execute_result",
          "data": {
            "text/plain": [
              "is_english2\n",
              "True     465382\n",
              "False     56906\n",
              "Name: count, dtype: int64"
            ],
            "text/html": [
              "<div>\n",
              "<style scoped>\n",
              "    .dataframe tbody tr th:only-of-type {\n",
              "        vertical-align: middle;\n",
              "    }\n",
              "\n",
              "    .dataframe tbody tr th {\n",
              "        vertical-align: top;\n",
              "    }\n",
              "\n",
              "    .dataframe thead th {\n",
              "        text-align: right;\n",
              "    }\n",
              "</style>\n",
              "<table border=\"1\" class=\"dataframe\">\n",
              "  <thead>\n",
              "    <tr style=\"text-align: right;\">\n",
              "      <th></th>\n",
              "      <th>count</th>\n",
              "    </tr>\n",
              "    <tr>\n",
              "      <th>is_english2</th>\n",
              "      <th></th>\n",
              "    </tr>\n",
              "  </thead>\n",
              "  <tbody>\n",
              "    <tr>\n",
              "      <th>True</th>\n",
              "      <td>465382</td>\n",
              "    </tr>\n",
              "    <tr>\n",
              "      <th>False</th>\n",
              "      <td>56906</td>\n",
              "    </tr>\n",
              "  </tbody>\n",
              "</table>\n",
              "</div><br><label><b>dtype:</b> int64</label>"
            ]
          },
          "metadata": {},
          "execution_count": 48
        }
      ]
    },
    {
      "cell_type": "code",
      "source": [
        "df.to_csv('comments_202050308_utf8_isEnglish2.csv', index=False)"
      ],
      "metadata": {
        "id": "Kw966gOGS7vI"
      },
      "execution_count": null,
      "outputs": []
    },
    {
      "cell_type": "markdown",
      "source": [
        "Create a pivot table to count the number Engish and non-English comments in each video as well as the percentage of non-English comments"
      ],
      "metadata": {
        "id": "uCw8CM7NjmsG"
      }
    },
    {
      "cell_type": "code",
      "source": [
        "# Create a pivot table where rows are videoId and columns are is_english, filled with counts\n",
        "pivot_df = df.pivot_table(index=\"videoId\", columns=\"is_english2\", aggfunc=\"size\", fill_value=0)\n",
        "\n",
        "# If pivot_df columns are booleans, then:\n",
        "# pivot_df[False] counts non-English comments, and pivot_df[True] counts English comments.\n",
        "pivot_df[\"total\"] = pivot_df[False] + pivot_df[True]\n",
        "pivot_df[\"percentage_false\"] = pivot_df[False] / pivot_df[\"total\"] * 100\n",
        "\n",
        "# If you want to reset index for easier reading, you can:\n",
        "pivot_df = pivot_df.reset_index()\n",
        "print(pivot_df)"
      ],
      "metadata": {
        "id": "X-f4uDCsTR9B"
      },
      "execution_count": null,
      "outputs": []
    },
    {
      "cell_type": "markdown",
      "source": [
        "# Filter out videos and comments with threshold on minimum number of comments and pecentage of English comments\n",
        "\n",
        "\n"
      ],
      "metadata": {
        "id": "4x4u0xT8-de-"
      }
    },
    {
      "cell_type": "code",
      "source": [
        "# Load the video data obtained from YouTube Data API\n",
        "df_video = pd.read_csv('/content/drive/MyDrive/CISC7298/videos_202500308_utf8_filtered.csv', encoding='utf-8')\n",
        "\n",
        "print(\"Data loaded successfully.\")"
      ],
      "metadata": {
        "colab": {
          "base_uri": "https://localhost:8080/"
        },
        "id": "W8p1qdalCile",
        "outputId": "fe32a4f9-4f1b-40c7-c350-03cff62dc02e"
      },
      "execution_count": null,
      "outputs": [
        {
          "output_type": "stream",
          "name": "stdout",
          "text": [
            "Data loaded successfully.\n"
          ]
        }
      ]
    },
    {
      "cell_type": "code",
      "source": [
        "# Merge the original video data file and the pivot table with counts on English and non-English comment on the 'videoId' column\n",
        "df_video = df_video.merge(pivot_df, on='videoId', how='left')\n",
        "\n",
        "# Verify the merged DataFrame\n",
        "print(df_video.head())"
      ],
      "metadata": {
        "id": "toI77wbNPmkC"
      },
      "execution_count": null,
      "outputs": []
    },
    {
      "cell_type": "code",
      "source": [
        "# Filter rows based on the conditions\n",
        "filtered_df = df_video.loc[(df_video['True'] >= 20) & (df_video['percentage_false'] < 50)]\n",
        "\n",
        "# Display the filtered rows\n",
        "print(filtered_df)"
      ],
      "metadata": {
        "id": "YL9Q72Nde6ou"
      },
      "execution_count": null,
      "outputs": []
    },
    {
      "cell_type": "code",
      "source": [
        "filtered_df['True'].sum()"
      ],
      "metadata": {
        "colab": {
          "base_uri": "https://localhost:8080/"
        },
        "id": "0PzWBP-xUr9y",
        "outputId": "a2886b55-f983-4afa-ba26-2eed69377d99"
      },
      "execution_count": null,
      "outputs": [
        {
          "output_type": "execute_result",
          "data": {
            "text/plain": [
              "np.float64(461534.0)"
            ]
          },
          "metadata": {},
          "execution_count": 9
        }
      ]
    },
    {
      "cell_type": "code",
      "source": [
        "# Filter rows where isEnglish2 == True\n",
        "df_comment_filtered = df_comment[df_comment['is_english2'] == True]"
      ],
      "metadata": {
        "id": "juWExvD6X168"
      },
      "execution_count": null,
      "outputs": []
    },
    {
      "cell_type": "code",
      "source": [
        "df_comment_filtered.shape"
      ],
      "metadata": {
        "colab": {
          "base_uri": "https://localhost:8080/"
        },
        "id": "CK1tQiwKX9Y0",
        "outputId": "54d3086e-5f0b-4098-cc94-6ba8012e80ea"
      },
      "execution_count": null,
      "outputs": [
        {
          "output_type": "execute_result",
          "data": {
            "text/plain": [
              "(465382, 10)"
            ]
          },
          "metadata": {},
          "execution_count": 12
        }
      ]
    },
    {
      "cell_type": "code",
      "source": [
        "# Filter rows in df_comment_filtered based on videoId in filtered_df\n",
        "df_comment_filtered = df_comment_filtered[df_comment_filtered['videoId'].isin(filtered_df['videoId'])]"
      ],
      "metadata": {
        "id": "e__1OoFCYib9"
      },
      "execution_count": null,
      "outputs": []
    },
    {
      "cell_type": "code",
      "source": [
        "df_comment_filtered.shape"
      ],
      "metadata": {
        "colab": {
          "base_uri": "https://localhost:8080/"
        },
        "id": "e191reKZY7iw",
        "outputId": "86769e9f-c804-408d-8b0c-b001b68c5d0d"
      },
      "execution_count": null,
      "outputs": [
        {
          "output_type": "execute_result",
          "data": {
            "text/plain": [
              "(461534, 10)"
            ]
          },
          "metadata": {},
          "execution_count": 14
        }
      ]
    },
    {
      "cell_type": "markdown",
      "source": [
        "Save the filtered comment data and video data files for further process."
      ],
      "metadata": {
        "id": "J8ocrGJ_3mTg"
      }
    },
    {
      "cell_type": "code",
      "source": [
        "# Save the comment data file (change the file name)\n",
        "df_comment_filtered.to_csv(\"comments_202050308_utf8_isEnglish2_2050.csv\", index=False)"
      ],
      "metadata": {
        "id": "RKj6YoDwZAQW"
      },
      "execution_count": null,
      "outputs": []
    },
    {
      "cell_type": "code",
      "source": [
        "# Save the video data (change the file name)\n",
        "filtered_df.to_csv(\"videos_202500308_utf8_filtered_isEnglish2_2050.csv\", index=False)"
      ],
      "metadata": {
        "id": "4J0mqmYfhqth"
      },
      "execution_count": null,
      "outputs": []
    }
  ]
}